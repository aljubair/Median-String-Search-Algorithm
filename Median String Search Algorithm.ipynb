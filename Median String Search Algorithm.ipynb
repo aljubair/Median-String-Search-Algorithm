{
 "cells": [
  {
   "cell_type": "code",
   "execution_count": 18,
   "id": "f2d65567",
   "metadata": {},
   "outputs": [
    {
     "name": "stdout",
     "output_type": "stream",
     "text": [
      "Median string: CGTTAC\n"
     ]
    }
   ],
   "source": [
    "def hamming_distance(s1, s2):\n",
    "    return sum(c1 != c2 for c1, c2 in zip(s1, s2))  # Count differences between s1 and s2\n",
    "\n",
    "def median_string(dna_sequences, k):\n",
    "    best_kmer = None  # To store the best k-mer found\n",
    "    best_distance = float('inf')  # Initialize the smallest distance as infinity\n",
    "\n",
    "    # Loop over each DNA sequence\n",
    "    for seq in dna_sequences:\n",
    "        # Try every possible k-mer (substring of length k) from the current sequence\n",
    "        for i in range(len(seq) - k + 1):\n",
    "            candidate = seq[i:i + k]  # Get the k-mer from index i to i+k\n",
    "            total_distance = 0  # Sum of distances for this k-mer\n",
    "\n",
    "            # Compare the candidate k-mer with each sequence in the list\n",
    "            for other_seq in dna_sequences:\n",
    "                min_distance = float('inf')  # Store the minimum distance for the current sequence\n",
    "                # Find the closest k-mer in the other sequence\n",
    "                for j in range(len(other_seq) - k + 1):\n",
    "                    subseq = other_seq[j:j + k]\n",
    "                    min_distance = min(min_distance, hamming_distance(candidate, subseq))\n",
    "                total_distance += min_distance  # Add the minimum distance for the current sequence\n",
    "\n",
    "            # If this k-mer has a smaller total distance, update the best k-mer\n",
    "            if total_distance < best_distance:\n",
    "                best_distance = total_distance\n",
    "                best_kmer = candidate\n",
    "\n",
    "    return best_kmer  # Return the k-mer with the smallest total distance\n",
    "\n",
    "# Example usage\n",
    "dna_sequences = [\n",
    "    \"AGCTGACCT\",\n",
    "    \"CGTTACGGA\",\n",
    "    \"AACGTTGGC\",\n",
    "    \"TACGAGTCA\"\n",
    "]\n",
    "\n",
    "k = 6\n",
    "median_kmer = median_string(dna_sequences, k)\n",
    "print(\"Median string:\", median_kmer)\n"
   ]
  },
  {
   "cell_type": "code",
   "execution_count": null,
   "id": "6c747fb0",
   "metadata": {},
   "outputs": [],
   "source": []
  }
 ],
 "metadata": {
  "kernelspec": {
   "display_name": "py",
   "language": "python",
   "name": "py"
  },
  "language_info": {
   "codemirror_mode": {
    "name": "ipython",
    "version": 3
   },
   "file_extension": ".py",
   "mimetype": "text/x-python",
   "name": "python",
   "nbconvert_exporter": "python",
   "pygments_lexer": "ipython3",
   "version": "3.11.9"
  }
 },
 "nbformat": 4,
 "nbformat_minor": 5
}
